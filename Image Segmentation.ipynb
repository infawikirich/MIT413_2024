{
 "cells": [
  {
   "cell_type": "code",
   "execution_count": 1,
   "id": "b2a96fae",
   "metadata": {},
   "outputs": [
    {
     "name": "stdout",
     "output_type": "stream",
     "text": [
      "Requirement already satisfied: opencv-python in c:\\users\\infaw\\appdata\\local\\programs\\python\\python310\\lib\\site-packages (4.8.1.78)\n",
      "Requirement already satisfied: numpy>=1.21.2 in c:\\users\\infaw\\appdata\\local\\programs\\python\\python310\\lib\\site-packages (from opencv-python) (1.23.5)\n"
     ]
    }
   ],
   "source": [
    "!pip install opencv-python"
   ]
  },
  {
   "cell_type": "code",
   "execution_count": 12,
   "id": "65239ccd",
   "metadata": {
    "scrolled": false
   },
   "outputs": [
    {
     "name": "stdout",
     "output_type": "stream",
     "text": [
      "Collecting opencv-contrib-python\n",
      "  Using cached opencv_contrib_python-4.9.0.80-cp37-abi3-win_amd64.whl.metadata (20 kB)\n",
      "Requirement already satisfied: numpy>=1.21.2 in c:\\users\\infaw\\appdata\\local\\programs\\python\\python310\\lib\\site-packages (from opencv-contrib-python) (1.23.5)\n",
      "Using cached opencv_contrib_python-4.9.0.80-cp37-abi3-win_amd64.whl (45.3 MB)\n",
      "Installing collected packages: opencv-contrib-python\n",
      "Successfully installed opencv-contrib-python-4.9.0.80\n"
     ]
    }
   ],
   "source": [
    "!pip install --user opencv-contrib-python"
   ]
  },
  {
   "cell_type": "code",
   "execution_count": 13,
   "id": "0dd71df3",
   "metadata": {},
   "outputs": [
    {
     "name": "stdout",
     "output_type": "stream",
     "text": [
      "Libraries imported succesfully\n"
     ]
    }
   ],
   "source": [
    "import cv2\n",
    "\n",
    "print(\"Libraries imported succesfully\")"
   ]
  },
  {
   "cell_type": "code",
   "execution_count": 14,
   "id": "5b76f91a",
   "metadata": {},
   "outputs": [],
   "source": [
    "# Load the image and convert it grayscale\n",
    "img = cv2.imread(\"img.jpg\", cv2.IMREAD_GRAYSCALE)"
   ]
  },
  {
   "cell_type": "code",
   "execution_count": 15,
   "id": "234cccd1",
   "metadata": {},
   "outputs": [],
   "source": [
    "# display the image to see it gray nature\n",
    "cv2.imshow(\"Original Image\", img)\n",
    "cv2.waitKey(0)\n",
    "cv2.destroyAllWindows()"
   ]
  },
  {
   "cell_type": "code",
   "execution_count": 23,
   "id": "82fa510f",
   "metadata": {},
   "outputs": [],
   "source": [
    "# create a surf object\n",
    "sift = cv2.SIFT_create()"
   ]
  },
  {
   "cell_type": "code",
   "execution_count": 24,
   "id": "dd09ab3b",
   "metadata": {},
   "outputs": [],
   "source": [
    "# Detect keypoints and compute descriptors\n",
    "keypoints, descriptors = sift.detectAndCompute(img, None)"
   ]
  },
  {
   "cell_type": "code",
   "execution_count": 25,
   "id": "af7badb0",
   "metadata": {},
   "outputs": [],
   "source": [
    "# Draw keypoints on the image\n",
    "result = cv2.drawKeypoints(img, keypoints, None, flags=cv2.DRAW_MATCHES_FLAGS_DRAW_RICH_KEYPOINTS)"
   ]
  },
  {
   "cell_type": "code",
   "execution_count": 27,
   "id": "0fed0d40",
   "metadata": {},
   "outputs": [],
   "source": [
    "# Display the result\n",
    "cv2.imshow(\"SIFT FEATURE\", result)\n",
    "cv2.waitKey(0)\n",
    "cv2.destroyAllWindows()"
   ]
  },
  {
   "cell_type": "code",
   "execution_count": null,
   "id": "3e259659",
   "metadata": {},
   "outputs": [],
   "source": []
  }
 ],
 "metadata": {
  "kernelspec": {
   "display_name": "Python 3 (ipykernel)",
   "language": "python",
   "name": "python3"
  },
  "language_info": {
   "codemirror_mode": {
    "name": "ipython",
    "version": 3
   },
   "file_extension": ".py",
   "mimetype": "text/x-python",
   "name": "python",
   "nbconvert_exporter": "python",
   "pygments_lexer": "ipython3",
   "version": "3.10.9"
  }
 },
 "nbformat": 4,
 "nbformat_minor": 5
}
