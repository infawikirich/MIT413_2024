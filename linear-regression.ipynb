{
 "cells": [
  {
   "cell_type": "code",
   "execution_count": 17,
   "id": "4f3b4cbb",
   "metadata": {},
   "outputs": [
    {
     "name": "stdout",
     "output_type": "stream",
     "text": [
      "Libraries imported successfully\n"
     ]
    }
   ],
   "source": [
    "# import libraries\n",
    "import numpy as np\n",
    "import matplotlib.pyplot as plt\n",
    "import torch\n",
    "from torch.autograd import Variable\n",
    "from torch import nn\n",
    "\n",
    "print(\"Libraries imported successfully\")"
   ]
  },
  {
   "cell_type": "code",
   "execution_count": 14,
   "id": "5f6d956d",
   "metadata": {},
   "outputs": [
    {
     "name": "stdout",
     "output_type": "stream",
     "text": [
      "tensor([[3.],\n",
      "        [4.],\n",
      "        [5.],\n",
      "        [6.],\n",
      "        [7.],\n",
      "        [8.],\n",
      "        [9.]])\n"
     ]
    }
   ],
   "source": [
    "# The number of cars sold\n",
    "carNum = [3, 4, 5, 6, 7, 8, 9]\n",
    "carnumNP = np.array(carNum, dtype = np.float32)\n",
    "\n",
    "#carPricesNP.ndim\n",
    "\n",
    "carNumNP = carPricesNP.reshape(-1, 1)\n",
    "carNumNP\n",
    "\n",
    "# convert the numpy array to tensor\n",
    "carNumT = Variable(torch.from_numpy(carNumNP))\n",
    "print(carNumT)"
   ]
  },
  {
   "cell_type": "code",
   "execution_count": 15,
   "id": "72ba462f",
   "metadata": {},
   "outputs": [
    {
     "data": {
      "text/plain": [
       "tensor([[7.5000],\n",
       "        [7.0000],\n",
       "        [6.5000],\n",
       "        [6.0000],\n",
       "        [5.5000],\n",
       "        [5.0000],\n",
       "        [4.5000]])"
      ]
     },
     "execution_count": 15,
     "metadata": {},
     "output_type": "execute_result"
    }
   ],
   "source": [
    "# lets define the prices of car sell\n",
    "carPrices = [7.5, 7, 6.5, 6.0, 5.5, 5.0, 4.5]\n",
    "carPricesNP = np.array(carPrices, dtype = np.float32)\n",
    "carPricesNP = carPricesNP.reshape(-1, 1)\n",
    "\n",
    "# convert the numpy array to tensor\n",
    "carPricesT = Variable(torch.from_numpy(carPricesNP))\n",
    "carPricesT"
   ]
  },
  {
   "cell_type": "code",
   "execution_count": 16,
   "id": "4263c427",
   "metadata": {},
   "outputs": [
    {
     "data": {
      "image/png": "[encoded data removed]",
      "text/plain": [
       "<Figure size 640x480 with 1 Axes>"
      ]
     },
     "metadata": {},
     "output_type": "display_data"
    }
   ],
   "source": [
    "# let's visualize our data\n",
    "plt.scatter(carPrices, carNum)\n",
    "plt.xlabel(\"Car Price $\")\n",
    "plt.ylabel(\"Number of Car Sell\")\n",
    "plt.title(\"Car Price$ vs Number of Car Sell\")\n",
    "plt.show()"
   ]
  },
  {
   "cell_type": "code",
   "execution_count": 20,
   "id": "94670c65",
   "metadata": {},
   "outputs": [],
   "source": [
    "# create a class\n",
    "class LinearRegression(nn.Module):\n",
    "    def __init__(self, input_size, output_size):\n",
    "        super(LinearRegression, self).__init__()\n",
    "        \n",
    "        # linear function\n",
    "        self.linear = nn.Linear(input_dim, output_dim)\n",
    "        \n",
    "    def forward(self, x):\n",
    "        return self.linear(x)\n",
    "        "
   ]
  },
  {
   "cell_type": "code",
   "execution_count": 21,
   "id": "26fe870c",
   "metadata": {},
   "outputs": [],
   "source": [
    "# define model\n",
    "input_dim = 1\n",
    "output_dim = 1\n",
    "model = LinearRegression(input_dim, output_dim)"
   ]
  },
  {
   "cell_type": "code",
   "execution_count": 22,
   "id": "d7773b86",
   "metadata": {},
   "outputs": [],
   "source": [
    "# define the loss function\n",
    "mse = nn.MSELoss()"
   ]
  },
  {
   "cell_type": "code",
   "execution_count": 23,
   "id": "58094074",
   "metadata": {},
   "outputs": [],
   "source": [
    "# set optimization parameters\n",
    "lr = 0.02     # setting the learning rate\n",
    "optimizer = torch.optim.SGD(model.parameters(), lr = lr)"
   ]
  },
  {
   "cell_type": "code",
   "execution_count": 24,
   "id": "38f1b6b4",
   "metadata": {},
   "outputs": [
    {
     "name": "stdout",
     "output_type": "stream",
     "text": [
      "epoch 0, loss 13.63255500793457\n",
      "epoch 50, loss 7.5497565269470215\n",
      "epoch 100, loss 6.794569969177246\n",
      "epoch 150, loss 6.114922523498535\n",
      "epoch 200, loss 5.50325870513916\n",
      "epoch 250, loss 4.95277738571167\n",
      "epoch 300, loss 4.457361698150635\n",
      "epoch 350, loss 4.011500835418701\n",
      "epoch 400, loss 3.6102375984191895\n",
      "epoch 450, loss 3.2491118907928467\n",
      "epoch 500, loss 2.9241087436676025\n",
      "epoch 550, loss 2.6316165924072266\n",
      "epoch 600, loss 2.368381977081299\n",
      "epoch 650, loss 2.131476879119873\n",
      "epoch 700, loss 1.9182683229446411\n",
      "epoch 750, loss 1.7263872623443604\n",
      "epoch 800, loss 1.5537010431289673\n",
      "epoch 850, loss 1.3982874155044556\n",
      "epoch 900, loss 1.2584174871444702\n",
      "epoch 950, loss 1.1325401067733765\n",
      "epoch 1000, loss 1.0192549228668213\n"
     ]
    }
   ],
   "source": [
    "# Train the model\n",
    "loss_list = []\n",
    "iteration_number = 1001\n",
    "for iteration in range(iteration_number):\n",
    "    \n",
    "    # optimization\n",
    "    optimizer.zero_grad()\n",
    "    \n",
    "    # forward to get output\n",
    "    results = model(carPricesT)\n",
    "    \n",
    "    # calculate loss\n",
    "    loss = mse(results, carNumT)\n",
    "    \n",
    "    # backward propagation\n",
    "    loss.backward()\n",
    "    \n",
    "    # updating parameters\n",
    "    optimizer.step()\n",
    "    \n",
    "    # store loss\n",
    "    loss_list.append(loss.data)\n",
    "    \n",
    "    # print loss\n",
    "    if (iteration % 50 == 0):\n",
    "        print('epoch {}, loss {}'.format(iteration, loss.data))"
   ]
  },
  {
   "cell_type": "code",
   "execution_count": 25,
   "id": "784bf2e3",
   "metadata": {},
   "outputs": [
    {
     "data": {
      "image/png": "[encoded data removed]",
      "text/plain": [
       "<Figure size 640x480 with 1 Axes>"
      ]
     },
     "metadata": {},
     "output_type": "display_data"
    }
   ],
   "source": [
    "# plot to see how the loss function falls\n",
    "plt.plot(range(iteration_number),loss_list)\n",
    "plt.xlabel(\"Number of Iterations\")\n",
    "plt.ylabel(\"Loss\")\n",
    "plt.show()"
   ]
  },
  {
   "cell_type": "code",
   "execution_count": null,
   "id": "a2711009",
   "metadata": {},
   "outputs": [],
   "source": []
  }
 ],
 "metadata": {
  "kernelspec": {
   "display_name": "Python 3 (ipykernel)",
   "language": "python",
   "name": "python3"
  },
  "language_info": {
   "codemirror_mode": {
    "name": "ipython",
    "version": 3
   },
   "file_extension": ".py",
   "mimetype": "text/x-python",
   "name": "python",
   "nbconvert_exporter": "python",
   "pygments_lexer": "ipython3",
   "version": "3.10.9"
  }
 },
 "nbformat": 4,
 "nbformat_minor": 5
}
